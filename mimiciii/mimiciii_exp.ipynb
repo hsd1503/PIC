{
 "cells": [
  {
   "cell_type": "code",
   "execution_count": 1,
   "metadata": {},
   "outputs": [],
   "source": [
    "import pandas as pd\n",
    "import numpy as np\n",
    "import json\n",
    "import os\n",
    "\n",
    "from sklearn.linear_model import LogisticRegression as LR\n",
    "from sklearn.ensemble import RandomForestClassifier as RF\n",
    "from sklearn.metrics import roc_curve, roc_auc_score\n",
    "from sklearn.preprocessing import Imputer\n",
    "from sklearn.ensemble import RandomForestClassifier as RF\n",
    "\n",
    "from baseline_prism_iii import prism_iii\n",
    "\n",
    "from mimic3benchmark.readers import InHospitalMortalityReader\n",
    "from mimic3models import common_utils\n",
    "from mimic3models.in_hospital_mortality.utils import save_results\n",
    "from mimic3models.metrics import print_metrics_binary"
   ]
  },
  {
   "cell_type": "code",
   "execution_count": 2,
   "metadata": {},
   "outputs": [],
   "source": [
    "test_data=pd.read_csv('mimiciii_data/test_data.csv')\n",
    "train_data=pd.read_csv('mimiciii_data/train_data.csv')\n",
    "val_data=pd.read_csv('mimiciii_data/val_data.csv')\n",
    "\n",
    "# convert to float\n",
    "columns = ['PID','age','SBPmin','SBPmax','Tempmin','Tempmax','Respmin','Respmax','ABEmin','ABEmax','Lacmin','Lacmax','pCO2','pO2','K','HCO3','sO2','PC','Glu','SBC','M_label']\n",
    "for col in columns:\n",
    "    train_data[col]=pd.to_numeric(train_data[col],errors='coerce')\n",
    "    val_data[col]=pd.to_numeric(val_data[col],errors='coerce')\n",
    "    test_data[col]=pd.to_numeric(test_data[col],errors='coerce')"
   ]
  },
  {
   "cell_type": "code",
   "execution_count": 3,
   "metadata": {},
   "outputs": [
    {
     "name": "stderr",
     "output_type": "stream",
     "text": [
      "/Users/sunchenxi/opt/anaconda3/lib/python3.7/site-packages/sklearn/utils/deprecation.py:66: DeprecationWarning: Class Imputer is deprecated; Imputer was deprecated in version 0.20 and will be removed in 0.22. Import impute.SimpleImputer from sklearn instead.\n",
      "  warnings.warn(msg, category=DeprecationWarning)\n"
     ]
    },
    {
     "data": {
      "text/plain": [
       "Imputer(axis=0, copy=True, missing_values=nan, strategy='mean', verbose=0)"
      ]
     },
     "execution_count": 3,
     "metadata": {},
     "output_type": "execute_result"
    }
   ],
   "source": [
    "imputer = Imputer(missing_values=np.nan, strategy='mean', axis=0, verbose=0, copy=True)\n",
    "imputer.fit(train_data)"
   ]
  },
  {
   "cell_type": "code",
   "execution_count": 4,
   "metadata": {},
   "outputs": [],
   "source": [
    "#convert NaN to mean\n",
    "train_data = np.array(imputer.transform(train_data), dtype=np.float32)\n",
    "val_data = np.array(imputer.transform(val_data), dtype=np.float32)\n",
    "test_data = np.array(imputer.transform(test_data), dtype=np.float32)"
   ]
  },
  {
   "cell_type": "code",
   "execution_count": 5,
   "metadata": {},
   "outputs": [],
   "source": [
    "train_x=train_data[:,2:21]\n",
    "train_y=train_data[:,21]\n",
    "val_x=val_data[:,2:21]\n",
    "val_y=val_data[:,21]\n",
    "test_x=test_data[:,2:21]\n",
    "test_y=test_data[:,21]\n",
    "test_names=test_data[:,1]"
   ]
  },
  {
   "cell_type": "markdown",
   "metadata": {},
   "source": [
    "# LR"
   ]
  },
  {
   "cell_type": "code",
   "execution_count": 6,
   "metadata": {},
   "outputs": [
    {
     "name": "stderr",
     "output_type": "stream",
     "text": [
      "/Users/sunchenxi/opt/anaconda3/lib/python3.7/site-packages/sklearn/linear_model/logistic.py:432: FutureWarning: Default solver will be changed to 'lbfgs' in 0.22. Specify a solver to silence this warning.\n",
      "  FutureWarning)\n"
     ]
    },
    {
     "data": {
      "text/plain": [
       "LogisticRegression(C=1.0, class_weight=None, dual=False, fit_intercept=True,\n",
       "                   intercept_scaling=1, l1_ratio=None, max_iter=100,\n",
       "                   multi_class='warn', n_jobs=None, penalty='l1',\n",
       "                   random_state=42, solver='warn', tol=0.0001, verbose=0,\n",
       "                   warm_start=False)"
      ]
     },
     "execution_count": 6,
     "metadata": {},
     "output_type": "execute_result"
    }
   ],
   "source": [
    "penalty='l1'\n",
    "C=1.0\n",
    "logreg = LR(penalty=penalty, C=C, random_state=42)\n",
    "logreg.fit(train_x, train_y)"
   ]
  },
  {
   "cell_type": "code",
   "execution_count": 7,
   "metadata": {},
   "outputs": [],
   "source": [
    "output_dir='results'\n",
    "result_dir = os.path.join(output_dir, 'LRresults')\n",
    "common_utils.create_directory(result_dir)"
   ]
  },
  {
   "cell_type": "code",
   "execution_count": 8,
   "metadata": {},
   "outputs": [
    {
     "name": "stdout",
     "output_type": "stream",
     "text": [
      "confusion matrix:\n",
      "[[12621    73]\n",
      " [ 1814   173]]\n",
      "accuracy = 0.8714665174484253\n",
      "precision class 0 = 0.8743332028388977\n",
      "precision class 1 = 0.7032520174980164\n",
      "recall class 0 = 0.9942492246627808\n",
      "recall class 1 = 0.0870659276843071\n",
      "AUC of ROC = 0.7277958613768762\n",
      "AUC of PRC = 0.36658896429187604\n",
      "min(+P, Se) = 0.37544036235530953\n",
      "confusion matrix:\n",
      "[[2780    6]\n",
      " [ 421   15]]\n",
      "accuracy = 0.8674736022949219\n",
      "precision class 0 = 0.8684785962104797\n",
      "precision class 1 = 0.7142857313156128\n",
      "recall class 0 = 0.9978463649749756\n",
      "recall class 1 = 0.03440367057919502\n",
      "AUC of ROC = 0.6850907552177664\n",
      "AUC of PRC = 0.30120704766947065\n",
      "min(+P, Se) = 0.30045871559633025\n",
      "confusion matrix:\n",
      "[[2843   19]\n",
      " [ 329   45]]\n",
      "accuracy = 0.8924598097801208\n",
      "precision class 0 = 0.8962799310684204\n",
      "precision class 1 = 0.703125\n",
      "recall class 0 = 0.9933612942695618\n",
      "recall class 1 = 0.12032085657119751\n",
      "AUC of ROC = 0.7528045904849456\n",
      "AUC of PRC = 0.38022362263987425\n",
      "min(+P, Se) = 0.376\n"
     ]
    }
   ],
   "source": [
    "with open(os.path.join(result_dir, 'train.json'), 'w') as res_file:\n",
    "    ret = print_metrics_binary(train_y, logreg.predict_proba(train_x))\n",
    "    ret = {k : float(v) for k, v in ret.items()}\n",
    "    json.dump(ret, res_file)\n",
    "\n",
    "with open(os.path.join(result_dir, 'val.json'), 'w') as res_file:\n",
    "    ret = print_metrics_binary(val_y, logreg.predict_proba(val_x))\n",
    "    ret = {k: float(v) for k, v in ret.items()}\n",
    "    json.dump(ret, res_file)\n",
    "\n",
    "prediction = logreg.predict_proba(test_x)[:, 1]\n",
    "\n",
    "with open(os.path.join(result_dir, 'test.json'), 'w')as res_file:\n",
    "    ret = print_metrics_binary(test_y, prediction)\n",
    "    ret = {k: float(v) for k, v in ret.items()}\n",
    "    json.dump(ret, res_file)\n",
    "\n",
    "save_results(test_names, prediction, test_y,\n",
    "             os.path.join(output_dir, 'predictions/LRtest.csv'))\n"
   ]
  },
  {
   "cell_type": "markdown",
   "metadata": {},
   "source": [
    "# RF"
   ]
  },
  {
   "cell_type": "code",
   "execution_count": 9,
   "metadata": {},
   "outputs": [
    {
     "data": {
      "text/plain": [
       "RandomForestClassifier(bootstrap=True, class_weight=None, criterion='gini',\n",
       "                       max_depth=None, max_features='auto', max_leaf_nodes=None,\n",
       "                       min_impurity_decrease=0.0, min_impurity_split=None,\n",
       "                       min_samples_leaf=1, min_samples_split=2,\n",
       "                       min_weight_fraction_leaf=0.0, n_estimators=100,\n",
       "                       n_jobs=None, oob_score=False, random_state=0, verbose=0,\n",
       "                       warm_start=False)"
      ]
     },
     "execution_count": 9,
     "metadata": {},
     "output_type": "execute_result"
    }
   ],
   "source": [
    "rf = RF(n_estimators=100, random_state=0)\n",
    "rf.fit(train_x, train_y)"
   ]
  },
  {
   "cell_type": "code",
   "execution_count": 10,
   "metadata": {},
   "outputs": [],
   "source": [
    "output_dir='results'\n",
    "result_dir = os.path.join(output_dir, 'RFresults')\n",
    "common_utils.create_directory(result_dir)"
   ]
  },
  {
   "cell_type": "code",
   "execution_count": 11,
   "metadata": {},
   "outputs": [
    {
     "name": "stdout",
     "output_type": "stream",
     "text": [
      "confusion matrix:\n",
      "[[12694     0]\n",
      " [    2  1985]]\n",
      "accuracy = 0.9998637437820435\n",
      "precision class 0 = 0.9998424649238586\n",
      "precision class 1 = 1.0\n",
      "recall class 0 = 1.0\n",
      "recall class 1 = 0.998993456363678\n",
      "AUC of ROC = 1.0\n",
      "AUC of PRC = 1.0\n",
      "min(+P, Se) = 1.0\n",
      "confusion matrix:\n",
      "[[2779    7]\n",
      " [ 408   28]]\n",
      "accuracy = 0.8711979985237122\n",
      "precision class 0 = 0.8719798922538757\n",
      "precision class 1 = 0.800000011920929\n",
      "recall class 0 = 0.9974874258041382\n",
      "recall class 1 = 0.06422018259763718\n",
      "AUC of ROC = 0.7281249794187188\n",
      "AUC of PRC = 0.3700375986987712\n",
      "min(+P, Se) = 0.3632286995515695\n",
      "confusion matrix:\n",
      "[[2846   16]\n",
      " [ 317   57]]\n",
      "accuracy = 0.8970952033996582\n",
      "precision class 0 = 0.8997786641120911\n",
      "precision class 1 = 0.7808219194412231\n",
      "recall class 0 = 0.9944095015525818\n",
      "recall class 1 = 0.15240642428398132\n",
      "AUC of ROC = 0.7856992044006472\n",
      "AUC of PRC = 0.4173718699760758\n",
      "min(+P, Se) = 0.4005235602094241\n"
     ]
    }
   ],
   "source": [
    "with open(os.path.join(result_dir, 'train.json'), 'w') as res_file:\n",
    "    ret = print_metrics_binary(train_y, rf.predict_proba(train_x))\n",
    "    ret = {k : float(v) for k, v in ret.items()}\n",
    "    json.dump(ret, res_file)\n",
    "\n",
    "with open(os.path.join(result_dir, 'val.json'), 'w') as res_file:\n",
    "    ret = print_metrics_binary(val_y, rf.predict_proba(val_x))\n",
    "    ret = {k: float(v) for k, v in ret.items()}\n",
    "    json.dump(ret, res_file)\n",
    "\n",
    "prediction = rf.predict_proba(test_x)[:, 1]\n",
    "\n",
    "with open(os.path.join(result_dir, 'test.json'), 'w')as res_file:\n",
    "    ret = print_metrics_binary(test_y, prediction)\n",
    "    ret = {k: float(v) for k, v in ret.items()}\n",
    "    json.dump(ret, res_file)\n",
    "\n",
    "save_results(test_names, prediction, test_y,\n",
    "             os.path.join(output_dir, 'predictions/RFtest.csv'))\n",
    "\n"
   ]
  },
  {
   "cell_type": "markdown",
   "metadata": {},
   "source": [
    "# prism_iii"
   ]
  },
  {
   "cell_type": "code",
   "execution_count": 12,
   "metadata": {},
   "outputs": [],
   "source": [
    "prediction = prism_iii(test_x)\n",
    "output_dir='results'\n",
    "result_dir = os.path.join(output_dir, 'Prismiiiresults')\n",
    "common_utils.create_directory(result_dir)\n",
    "with open(os.path.join(result_dir, 'test.json'), 'w')as res_file:\n",
    "    ret = print_metrics_binary(test_y, prediction)\n",
    "    ret = {k: float(v) for k, v in ret.items()}\n",
    "    json.dump(ret, res_file)\n",
    "save_results(test_names, prediction, test_y,\n",
    "             os.path.join(output_dir, 'predictions/Prismiiitest.csv'))"
   ]
  },
  {
   "cell_type": "code",
   "execution_count": null,
   "metadata": {},
   "outputs": [],
   "source": []
  }
 ],
 "metadata": {
  "kernelspec": {
   "display_name": "Python 3",
   "language": "python",
   "name": "python3"
  },
  "language_info": {
   "codemirror_mode": {
    "name": "ipython",
    "version": 3
   },
   "file_extension": ".py",
   "mimetype": "text/x-python",
   "name": "python",
   "nbconvert_exporter": "python",
   "pygments_lexer": "ipython3",
   "version": "3.7.4"
  }
 },
 "nbformat": 4,
 "nbformat_minor": 2
}
