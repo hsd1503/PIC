{
 "cells": [
  {
   "cell_type": "code",
   "execution_count": 78,
   "metadata": {},
   "outputs": [],
   "source": [
    "from __future__ import absolute_import\n",
    "from __future__ import print_function\n",
    "import argparse\n",
    "import os\n",
    "import pandas as pd\n",
    "import numpy as np\n",
    "from mimic3benchmark.readers import InHospitalMortalityReader\n",
    "from mimic3models import common_utils\n",
    "from mimic3models.in_hospital_mortality.utils import save_results\n",
    "from mimic3models.metrics import print_metrics_binary"
   ]
  },
  {
   "cell_type": "code",
   "execution_count": 9,
   "metadata": {},
   "outputs": [],
   "source": [
    "def read_and_extract_features(reader, period, features):\n",
    "    ret = common_utils.read_chunk(reader, reader.get_number_of_examples())\n",
    "    # ret = common_utils.read_chunk(reader, 100)\n",
    "    X = common_utils.extract_features_from_rawdata(ret['X'], ret['header'], period, features)\n",
    "    return (X, ret['y'], ret['name'])"
   ]
  },
  {
   "cell_type": "code",
   "execution_count": 15,
   "metadata": {},
   "outputs": [],
   "source": [
    "train_reader = InHospitalMortalityReader(dataset_dir='data/in-hospital-mortality/train',\n",
    "                                             listfile='data/in-hospital-mortality/train_listfile.csv',\n",
    "                                             period_length=48.0)\n",
    "val_reader = InHospitalMortalityReader(dataset_dir='data/in-hospital-mortality/train',\n",
    "                                             listfile='data/in-hospital-mortality/val_listfile.csv',\n",
    "                                           period_length=48.0)\n",
    "test_reader = InHospitalMortalityReader(dataset_dir='data/in-hospital-mortality/test',\n",
    "                                             listfile='data/in-hospital-mortality/test_listfile.csv',\n",
    "                                            period_length=48.0)"
   ]
  },
  {
   "cell_type": "code",
   "execution_count": 17,
   "metadata": {},
   "outputs": [],
   "source": [
    "(_, train_y, train_names) = read_and_extract_features(train_reader, 'all', 'all')\n",
    "(_, val_y, val_names) = read_and_extract_features(val_reader, 'all', 'all')\n",
    "(_, test_y, test_names) = read_and_extract_features(test_reader, 'all', 'all')\n",
    "columns = ['age','SBPmin','SBPmax','Tempmin','Tempmax','Respmin','Respmax','ABEmin','ABEmax','Lacmin','Lacmax','SBEmin','SBEmax','pCO2','pO2','K','HCO3','sO2','PC','PCT','Glu','SBC','M_label']\n",
    "test_data=pd.DataFrame(columns=columns)\n",
    "train_data=pd.DataFrame(columns=columns)\n",
    "val_data=pd.DataFrame(columns=columns)"
   ]
  },
  {
   "cell_type": "code",
   "execution_count": 89,
   "metadata": {},
   "outputs": [],
   "source": [
    "#events\n",
    "i=0\n",
    "for file in test_names:\n",
    "    df = pd.read_csv('data/in-hospital-mortality/test/'+file)\n",
    "    data=[np.NaN,df['Systolic blood pressure'].min(),df['Systolic blood pressure'].max(),df['Temperature'].min(),df['Temperature'].max(),df['Respiratory rate'].min(),df['Respiratory rate'].max(),np.NaN,np.NaN,np.NaN,np.NaN,np.NaN,np.NaN,np.NaN,np.NaN,np.NaN,np.NaN,df['Oxygen saturation'].min(),np.NaN,np.NaN,df['Glucose'].max(),np.NaN,test_y[i]]\n",
    "    test_data.loc[i]=data\n",
    "    i+=1\n",
    "i=0\n",
    "for file in train_names:\n",
    "    df = pd.read_csv('data/in-hospital-mortality/train/'+file)\n",
    "    data=[np.NaN,df['Systolic blood pressure'].min(),df['Systolic blood pressure'].max(),df['Temperature'].min(),df['Temperature'].max(),df['Respiratory rate'].min(),df['Respiratory rate'].max(),np.NaN,np.NaN,np.NaN,np.NaN,np.NaN,np.NaN,np.NaN,np.NaN,np.NaN,np.NaN,df['Oxygen saturation'].min(),np.NaN,np.NaN,df['Glucose'].max(),np.NaN,train_y[i]]\n",
    "    train_data.loc[i]=data\n",
    "    i+=1\n",
    "i=0\n",
    "for file in val_names:\n",
    "    df = pd.read_csv('data/in-hospital-mortality/train/'+file)\n",
    "    data=[np.NaN,df['Systolic blood pressure'].min(),df['Systolic blood pressure'].max(),df['Temperature'].min(),df['Temperature'].max(),df['Respiratory rate'].min(),df['Respiratory rate'].max(),np.NaN,np.NaN,np.NaN,np.NaN,np.NaN,np.NaN,np.NaN,np.NaN,np.NaN,np.NaN,df['Oxygen saturation'].min(),np.NaN,np.NaN,df['Glucose'].max(),np.NaN,val_y[i]]\n",
    "    val_data.loc[i]=data\n",
    "    i+=1\n",
    "\n",
    "#age \n",
    "i=0\n",
    "for file in test_names:\n",
    "    PID=(file.split('_'))[0]\n",
    "    if os.path.exists('data/root/test/'+PID+'/episode1.csv'):\n",
    "        path='data/root/test/'+PID+'/episode1.csv'\n",
    "    elif os.path.exists('data/root/test/'+PID+'/episode2.csv'):\n",
    "        path='data/root/test/'+PID+'/episode2.csv'\n",
    "    elif os.path.exists('data/root/test/'+PID+'/episode3.csv'):\n",
    "        path='data/root/test/'+PID+'/episode3.csv'\n",
    "    elif os.path.exists('data/root/test/'+PID+'/episode4.csv'):\n",
    "        path='data/root/test/'+PID+'/episode4.csv'\n",
    "    elif os.path.exists('data/root/test/'+PID+'/episode5.csv'):\n",
    "        path='data/root/test/'+PID+'/episode5.csv'\n",
    "    df = pd.read_csv(path)\n",
    "    test_data['age'][i]=df['Age'][0]\n",
    "    i+=1\n",
    "i=0\n",
    "for file in train_names:\n",
    "    PID=(file.split('_'))[0]\n",
    "    if os.path.exists('data/root/train/'+PID+'/episode1.csv'):\n",
    "        path='data/root/train/'+PID+'/episode1.csv'\n",
    "    elif os.path.exists('data/root/train/'+PID+'/episode2.csv'):\n",
    "        path='data/root/train/'+PID+'/episode2.csv'\n",
    "    elif os.path.exists('data/root/train/'+PID+'/episode3.csv'):\n",
    "        path='data/root/train/'+PID+'/episode3.csv'\n",
    "    elif os.path.exists('data/root/train/'+PID+'/episode4.csv'):\n",
    "        path='data/root/train/'+PID+'/episode4.csv'\n",
    "    elif os.path.exists('data/root/train/'+PID+'/episode5.csv'):\n",
    "        path='data/root/train/'+PID+'/episode5.csv'\n",
    "    df = pd.read_csv(path)\n",
    "    train_data['age'][i]=df['Age'][0]\n",
    "    i+=1\n",
    "i=0\n",
    "for file in val_names:\n",
    "    PID=(file.split('_'))[0]\n",
    "    if os.path.exists('data/root/train/'+PID+'/episode1.csv'):\n",
    "        path='data/root/train/'+PID+'/episode1.csv'\n",
    "    elif os.path.exists('data/root/train/'+PID+'/episode2.csv'):\n",
    "        path='data/root/train/'+PID+'/episode2.csv'\n",
    "    elif os.path.exists('data/root/train/'+PID+'/episode3.csv'):\n",
    "        path='data/root/train/'+PID+'/episode3.csv'\n",
    "    elif os.path.exists('data/root/train/'+PID+'/episode4.csv'):\n",
    "        path='data/root/train/'+PID+'/episode4.csv'\n",
    "    elif os.path.exists('data/root/train/'+PID+'/episode5.csv'):\n",
    "        path='data/root/train/'+PID+'/episode5.csv'\n",
    "    df = pd.read_csv(path)\n",
    "    val_data['age'][i]=df['Age'][0]\n",
    "    i+=1"
   ]
  },
  {
   "cell_type": "code",
   "execution_count": null,
   "metadata": {},
   "outputs": [],
   "source": [
    "i=0\n",
    "for file in train_names:\n",
    "    PID=(file.split('_'))[0]\n",
    "    if os.path.exists('data/root/train/'+PID+'/episode1.csv'):\n",
    "        path='data/root/train/'+PID+'/episode1.csv'\n",
    "    elif os.path.exists('data/root/train/'+PID+'/episode2.csv'):\n",
    "        path='data/root/train/'+PID+'/episode2.csv'\n",
    "    elif os.path.exists('data/root/train/'+PID+'/episode3.csv'):\n",
    "        path='data/root/train/'+PID+'/episode3.csv'\n",
    "    elif os.path.exists('data/root/train/'+PID+'/episode4.csv'):\n",
    "        path='data/root/train/'+PID+'/episode4.csv'\n",
    "    elif os.path.exists('data/root/train/'+PID+'/episode5.csv'):\n",
    "        path='data/root/train/'+PID+'/episode5.csv'\n",
    "    df = pd.read_csv(path)\n",
    "    train_data['age'][i]=df['Age'][0]\n",
    "    i+=1"
   ]
  },
  {
   "cell_type": "code",
   "execution_count": null,
   "metadata": {},
   "outputs": [],
   "source": [
    "print(train_data.shape)\n",
    "print(val_data.shape)\n",
    "print(test_data.shape)\n",
    "test_data.to_csv('mimiciii_data/test_data.csv')\n",
    "val_data.to_csv('mimiciii_data/val_data.csv')\n",
    "train_data.to_csv('mimiciii_data/train_data.csv')"
   ]
  },
  {
   "cell_type": "code",
   "execution_count": null,
   "metadata": {},
   "outputs": [],
   "source": []
  }
 ],
 "metadata": {
  "kernelspec": {
   "display_name": "Python 3",
   "language": "python",
   "name": "python3"
  },
  "language_info": {
   "codemirror_mode": {
    "name": "ipython",
    "version": 3
   },
   "file_extension": ".py",
   "mimetype": "text/x-python",
   "name": "python",
   "nbconvert_exporter": "python",
   "pygments_lexer": "ipython3",
   "version": "3.7.4"
  }
 },
 "nbformat": 4,
 "nbformat_minor": 2
}
