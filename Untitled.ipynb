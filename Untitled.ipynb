{
 "cells": [
  {
   "cell_type": "code",
   "execution_count": null,
   "metadata": {},
   "outputs": [
    {
     "name": "stdout",
     "output_type": "stream",
     "text": [
      "Counter({0: 12478, 1: 971})\n",
      "(10759, 1109) (2690, 1109)\n",
      "Counter({0: 9975, 1: 784}) Counter({0: 2503, 1: 187})\n",
      "(10759, 1109) (2690, 1109)\n",
      "Counter({0: 9986, 1: 773}) Counter({0: 2492, 1: 198})\n",
      "(10759, 1109) (2690, 1109)\n",
      "Counter({0: 9983, 1: 776}) Counter({0: 2495, 1: 195})\n",
      "(10759, 1109) (2690, 1109)\n",
      "Counter({0: 9981, 1: 778}) Counter({0: 2497, 1: 193})\n",
      "(10760, 1109) (2689, 1109)\n",
      "Counter({0: 9987, 1: 773}) Counter({0: 2491, 1: 198})\n"
     ]
    },
    {
     "name": "stderr",
     "output_type": "stream",
     "text": [
      "  2%|▏         | 1/64 [00:00<00:09,  6.95it/s]"
     ]
    },
    {
     "name": "stdout",
     "output_type": "stream",
     "text": [
      ">>>>>>>>>> all \n",
      " [0.82774849 0.29295686] [0.01419626 0.00952535]\n"
     ]
    },
    {
     "name": "stderr",
     "output_type": "stream",
     "text": [
      " 22%|██▏       | 14/64 [00:04<00:21,  2.33it/s]"
     ]
    }
   ],
   "source": [
    "run exp.py"
   ]
  },
  {
   "cell_type": "code",
   "execution_count": null,
   "metadata": {},
   "outputs": [],
   "source": []
  }
 ],
 "metadata": {
  "kernelspec": {
   "display_name": "Python 3",
   "language": "python",
   "name": "python3"
  },
  "language_info": {
   "codemirror_mode": {
    "name": "ipython",
    "version": 3
   },
   "file_extension": ".py",
   "mimetype": "text/x-python",
   "name": "python",
   "nbconvert_exporter": "python",
   "pygments_lexer": "ipython3",
   "version": "3.7.6"
  }
 },
 "nbformat": 4,
 "nbformat_minor": 4
}
